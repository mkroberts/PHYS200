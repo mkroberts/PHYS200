{
 "metadata": {
  "name": "Chapter10"
 },
 "nbformat": 3,
 "worksheets": [
  {
   "cells": [
    {
     "cell_type": "code",
     "collapsed": true,
     "input": [
      "def add1(a):",
      "    c = []",
      "    for i in range(len(a)):",
      "        b = sum(a[:i+1])",
      "        c.append(b)",
      "    return c"
     ],
     "language": "python",
     "outputs": [],
     "prompt_number": 11
    },
    {
     "cell_type": "code",
     "collapsed": false,
     "input": [
      "t = [1, 2, 3]",
      "add1(t)"
     ],
     "language": "python",
     "outputs": [
      {
       "output_type": "pyout",
       "prompt_number": 12,
       "text": [
        "[1, 3, 6]"
       ]
      }
     ],
     "prompt_number": 12
    },
    {
     "cell_type": "code",
     "collapsed": false,
     "input": [
      "def chop(a):",
      "    del a[0]",
      "    del a[len(a)-1]"
     ],
     "language": "python",
     "outputs": [],
     "prompt_number": 33
    },
    {
     "cell_type": "code",
     "collapsed": false,
     "input": [
      "t = [1,2,3]",
      "chop(t)"
     ],
     "language": "python",
     "outputs": [],
     "prompt_number": 34
    },
    {
     "cell_type": "code",
     "collapsed": true,
     "input": [
      "def middle(a):",
      "    b = a",
      "    del b[0]",
      "    del b[len(b)-1]",
      "    return b"
     ],
     "language": "python",
     "outputs": [],
     "prompt_number": 36
    },
    {
     "cell_type": "code",
     "collapsed": false,
     "input": [
      "t = [1,2,3]",
      "middle(t)"
     ],
     "language": "python",
     "outputs": [
      {
       "output_type": "pyout",
       "prompt_number": 37,
       "text": [
        "[2]"
       ]
      }
     ],
     "prompt_number": 37
    },
    {
     "cell_type": "code",
     "collapsed": false,
     "input": [
      "j = [1,2,3,4,5,6]",
      "middle(j)"
     ],
     "language": "python",
     "outputs": [
      {
       "output_type": "pyout",
       "prompt_number": 39,
       "text": [
        "[2, 3, 4, 5]"
       ]
      }
     ],
     "prompt_number": 39
    },
    {
     "cell_type": "code",
     "collapsed": false,
     "input": [
      "def issort(k):",
      "    j = []",
      "    for i in range(len(k)):",
      "        j.append(k[i])",
      "    j.sort()",
      "    if j == k:",
      "        print 'True'",
      "    else:",
      "        print 'False'"
     ],
     "language": "python",
     "outputs": [],
     "prompt_number": 81
    },
    {
     "cell_type": "code",
     "collapsed": false,
     "input": [
      "h = [1, 2, 2]",
      "i = [3, 2, 4]",
      "",
      "issort(h)",
      "issort(i)"
     ],
     "language": "python",
     "outputs": [
      {
       "output_type": "stream",
       "stream": "stdout",
       "text": [
        "True",
        "False"
       ]
      }
     ],
     "prompt_number": 82
    },
    {
     "cell_type": "code",
     "collapsed": false,
     "input": [
      "def isana(l,m):",
      "    s = {}",
      "    t = {}",
      "    for i in l:",
      "        s[i] = s.get(i,0)+1",
      "    for j in m:",
      "        t[j] = t.get(j,0)+1",
      "    print s",
      "    print t",
      "    if s == t:",
      "        print 'True'",
      "    else:",
      "        print 'False'"
     ],
     "language": "python",
     "outputs": [],
     "prompt_number": 104
    },
    {
     "cell_type": "code",
     "collapsed": false,
     "input": [
      "s = 'aanda'",
      "t = 'naaad'",
      "isana(s,t)"
     ],
     "language": "python",
     "outputs": [
      {
       "output_type": "stream",
       "stream": "stdout",
       "text": [
        "{'a': 3, 'd': 1, 'n': 1}",
        "{'a': 3, 'd': 1, 'n': 1}",
        "True"
       ]
      }
     ],
     "prompt_number": 105
    },
    {
     "cell_type": "code",
     "collapsed": true,
     "input": [],
     "language": "python",
     "outputs": []
    }
   ]
  }
 ]
}