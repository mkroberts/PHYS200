{
 "metadata": {
  "name": "Chapter3"
 },
 "nbformat": 3,
 "worksheets": [
  {
   "cells": [
    {
     "cell_type": "code",
     "collapsed": false,
     "input": [
      "",
      "",
      "def DoTwice(f,arg):",
      "    f(arg)",
      "    f(arg)",
      "",
      "",
      "def printtwice(arg):",
      "    print arg",
      "    print arg",
      "    ",
      "    ",
      "DoTwice(printtwice,'spam')",
      "print"
     ],
     "language": "python",
     "outputs": [
      {
       "output_type": "stream",
       "stream": "stdout",
       "text": [
        "spam",
        "spam",
        "spam",
        "spam",
        ""
       ]
      }
     ],
     "prompt_number": 2
    },
    {
     "cell_type": "code",
     "collapsed": false,
     "input": [
      "def do_twice(f):",
      "    f()",
      "    f()",
      "    ",
      "def print_spam():",
      "    print 'spam'",
      "",
      "do_twice(print_spam)"
     ],
     "language": "python",
     "outputs": [
      {
       "output_type": "stream",
       "stream": "stdout",
       "text": [
        "spam",
        "spam"
       ]
      }
     ],
     "prompt_number": 3
    },
    {
     "cell_type": "code",
     "collapsed": false,
     "input": [
      "def DoFour(f,arg):",
      "    f(arg)",
      "    f(arg)",
      "    f(arg)",
      "    f(arg)",
      "",
      "def printt(arg):",
      "    print arg",
      "    ",
      "    ",
      "    ",
      "DoFour(printt,'spam')",
      "print"
     ],
     "language": "python",
     "outputs": [
      {
       "output_type": "stream",
       "stream": "stdout",
       "text": [
        "spam",
        "spam",
        "spam",
        "spam",
        ""
       ]
      }
     ],
     "prompt_number": 4
    },
    {
     "cell_type": "code",
     "collapsed": false,
     "input": [
      "row = '+ - - - - '",
      "colomb = '\\         '",
      "",
      "def Row(a):",
      "    print a",
      "    ",
      "def Colombs4(b):",
      "    print b",
      "    print b",
      "    print b",
      "    print b",
      "    ",
      "def BoxCorner(f,g,a,b):",
      "    f(a)",
      "    g(b)",
      "    f(a)",
      "    g(b)"
     ],
     "language": "python",
     "outputs": [],
     "prompt_number": 37
    },
    {
     "cell_type": "code",
     "collapsed": false,
     "input": [
      "BoxCorner(Row,Colombs4,row*2,colomb*2)"
     ],
     "language": "python",
     "outputs": [
      {
       "output_type": "stream",
       "stream": "stdout",
       "text": [
        "+ - - - - + - - - - + - - - - + - - - - ",
        "\\         \\         \\         \\         ",
        "\\         \\         \\         \\         ",
        "\\         \\         \\         \\         ",
        "\\         \\         \\         \\         ",
        "+ - - - - + - - - - + - - - - + - - - - ",
        "\\         \\         \\         \\         ",
        "\\         \\         \\         \\         ",
        "\\         \\         \\         \\         ",
        "\\         \\         \\         \\         "
       ]
      }
     ],
     "prompt_number": 38
    },
    {
     "cell_type": "code",
     "collapsed": false,
     "input": [
      "p = '+'",
      "m = '-'",
      "s = '\\         '",
      "",
      "def prse_h(f):",
      "    print f",
      "    ",
      "def prm_i(g):",
      "    print g,",
      "    print g,",
      "    print g,",
      "    print g",
      " ",
      "def pc_j(c):",
      "    print c",
      "    ",
      "def box(f,g,c,h,i,j):",
      "    f(h), g(i), f(h)",
      "    c(j)",
      "    "
     ],
     "language": "python",
     "outputs": [],
     "prompt_number": 48
    },
    {
     "cell_type": "code",
     "collapsed": false,
     "input": [
      "box(prse_h,prm_i,pc_j,p,m,s)"
     ],
     "language": "python",
     "outputs": [
      {
       "output_type": "stream",
       "stream": "stdout",
       "text": [
        "+",
        "- - - -",
        "+",
        "\\         "
       ]
      }
     ],
     "prompt_number": 49
    },
    {
     "cell_type": "code",
     "collapsed": false,
     "input": [
      "def printtwice(f):",
      "    print f",
      "    print f",
      "    ",
      "def printfour(f):",
      "    printtwice(f)",
      "    printtwice(f)",
      "    ",
      "def printbeam():",
      "    print '+ - - - - ',",
      "    ",
      "def printbar():",
      "    print '\\         ',",
      "    ",
      "def printbeams2():",
      "    printtwice(printbeam)",
      "    print '+'",
      "    ",
      "def printbars3():",
      "    printtwice(printbar)",
      "    print '\\ '",
      "",
      "def printrow():",
      "    printbars3()",
      "    printfour(printbars3)",
      "    ",
      "def printgrid():",
      "    printtwice(printrow)",
      "    printbeams3()",
      "    ",
      "printgrid()",
      "    ",
      "    "
     ],
     "language": "python",
     "outputs": [
      {
       "ename": "NameError",
       "evalue": "global name 'printbeams3' is not defined",
       "output_type": "pyerr",
       "traceback": [
        "\u001b[0;31m---------------------------------------------------------------------------\u001b[0m\n\u001b[0;31mNameError\u001b[0m                                 Traceback (most recent call last)",
        "\u001b[0;32m/Users/MasonRoberts/PHYS200/<ipython-input-56-45c474f9a2fc>\u001b[0m in \u001b[0;36m<module>\u001b[0;34m()\u001b[0m\n\u001b[1;32m     29\u001b[0m     \u001b[0mprintbeams3\u001b[0m\u001b[0;34m(\u001b[0m\u001b[0;34m)\u001b[0m\u001b[0;34m\u001b[0m\u001b[0m\n\u001b[1;32m     30\u001b[0m \u001b[0;34m\u001b[0m\u001b[0m\n\u001b[0;32m---> 31\u001b[0;31m \u001b[0mprintgrid\u001b[0m\u001b[0;34m(\u001b[0m\u001b[0;34m)\u001b[0m\u001b[0;34m\u001b[0m\u001b[0m\n\u001b[0m\u001b[1;32m     32\u001b[0m \u001b[0;34m\u001b[0m\u001b[0m\n\u001b[1;32m     33\u001b[0m \u001b[0;34m\u001b[0m\u001b[0m\n",
        "\u001b[0;32m/Users/MasonRoberts/PHYS200/<ipython-input-56-45c474f9a2fc>\u001b[0m in \u001b[0;36mprintgrid\u001b[0;34m()\u001b[0m\n\u001b[1;32m     27\u001b[0m \u001b[0;32mdef\u001b[0m \u001b[0mprintgrid\u001b[0m\u001b[0;34m(\u001b[0m\u001b[0;34m)\u001b[0m\u001b[0;34m:\u001b[0m\u001b[0;34m\u001b[0m\u001b[0m\n\u001b[1;32m     28\u001b[0m     \u001b[0mprinttwice\u001b[0m\u001b[0;34m(\u001b[0m\u001b[0mprintrow\u001b[0m\u001b[0;34m)\u001b[0m\u001b[0;34m\u001b[0m\u001b[0m\n\u001b[0;32m---> 29\u001b[0;31m     \u001b[0mprintbeams3\u001b[0m\u001b[0;34m(\u001b[0m\u001b[0;34m)\u001b[0m\u001b[0;34m\u001b[0m\u001b[0m\n\u001b[0m\u001b[1;32m     30\u001b[0m \u001b[0;34m\u001b[0m\u001b[0m\n\u001b[1;32m     31\u001b[0m \u001b[0mprintgrid\u001b[0m\u001b[0;34m(\u001b[0m\u001b[0;34m)\u001b[0m\u001b[0;34m\u001b[0m\u001b[0m\n",
        "\u001b[0;31mNameError\u001b[0m: global name 'printbeams3' is not defined"
       ]
      },
      {
       "output_type": "stream",
       "stream": "stdout",
       "text": [
        "<function printrow at 0x77e5970>",
        "<function printrow at 0x77e5970>"
       ]
      }
     ],
     "prompt_number": 56
    },
    {
     "cell_type": "code",
     "collapsed": false,
     "input": [
      "def do_twice(f):",
      "    f()",
      "    f()",
      "",
      "def do_four(f):",
      "    do_twice(f)",
      "    do_twice(f)",
      "",
      "def print_beam():",
      "    print '+ - - - -',",
      "",
      "def print_post():",
      "    print '|        ',",
      "",
      "def print_beams():",
      "    do_twice(print_beam)",
      "    print '+'",
      "",
      "def print_posts():",
      "    do_twice(print_post)",
      "    print '|'",
      "",
      "def print_row():",
      "    print_beams()",
      "    do_four(print_posts)",
      "",
      "def print_grid():",
      "    do_twice(print_row)",
      "    print_beams()",
      "",
      "print_grid()"
     ],
     "language": "python",
     "outputs": [
      {
       "output_type": "stream",
       "stream": "stdout",
       "text": [
        "+ - - - - + - - - - +",
        "|         |         |",
        "|         |         |",
        "|         |         |",
        "|         |         |",
        "+ - - - - + - - - - +",
        "|         |         |",
        "|         |         |",
        "|         |         |",
        "|         |         |",
        "+ - - - - + - - - - +"
       ]
      }
     ],
     "prompt_number": 51
    },
    {
     "cell_type": "code",
     "collapsed": false,
     "input": [
      "def p4(f):",
      "    p2(f)",
      "    p2(f)",
      "    ",
      "def p2(f):",
      "    f()",
      "    f()",
      "",
      "def Hbar():",
      "    print '+ - - - - ',",
      "    ",
      "def Vbar():",
      "    print '/         ',",
      "   ",
      "def Vbar3():",
      "    p2(Vbar)",
      "    print '/'",
      "    ",
      "def Vcol():",
      "    p4(Vbar3)",
      "    ",
      "def fbar():",
      "    p2(Hbar)",
      "    print '+'",
      "    ",
      "def tbac():",
      "    fbar()",
      "    Vcol()",
      "    ",
      "def grid():",
      "    p2(tbac)",
      "    fbar()",
      "    "
     ],
     "language": "python",
     "outputs": [],
     "prompt_number": 74
    },
    {
     "cell_type": "code",
     "collapsed": false,
     "input": [
      "grid()"
     ],
     "language": "python",
     "outputs": [
      {
       "output_type": "stream",
       "stream": "stdout",
       "text": [
        "+ - - - -  + - - - -  +",
        "/          /          /",
        "/          /          /",
        "/          /          /",
        "/          /          /",
        "+ - - - -  + - - - -  +",
        "/          /          /",
        "/          /          /",
        "/          /          /",
        "/          /          /",
        "+ - - - -  + - - - -  +"
       ]
      }
     ],
     "prompt_number": 76
    },
    {
     "cell_type": "code",
     "collapsed": false,
     "input": [
      "def p4(f):",
      "    p2(f)",
      "    p2(f)",
      "    ",
      "def p2(f):",
      "    f()",
      "    f()",
      "",
      "def p3(f):",
      "    f()",
      "    f()",
      "    f()",
      "    ",
      "def Hbar():",
      "    print '+ - - - - ',",
      "    ",
      "def Vbar():",
      "    print '/         ',",
      "   ",
      "def Vbar3():",
      "    p3(Vbar)",
      "    print '/'",
      "    ",
      "def Vcol():",
      "    p4(Vbar3)",
      "    ",
      "def fbar():",
      "    p3(Hbar)",
      "    print '+'",
      "    ",
      "def tbac():",
      "    fbar()",
      "    Vcol()",
      "    ",
      "def grid():",
      "    p3(tbac)",
      "    fbar()",
      "    ",
      "grid()"
     ],
     "language": "python",
     "outputs": [
      {
       "output_type": "stream",
       "stream": "stdout",
       "text": [
        "+ - - - -  + - - - -  + - - - -  +",
        "/          /          /          /",
        "/          /          /          /",
        "/          /          /          /",
        "/          /          /          /",
        "+ - - - -  + - - - -  + - - - -  +",
        "/          /          /          /",
        "/          /          /          /",
        "/          /          /          /",
        "/          /          /          /",
        "+ - - - -  + - - - -  + - - - -  +",
        "/          /          /          /",
        "/          /          /          /",
        "/          /          /          /",
        "/          /          /          /",
        "+ - - - -  + - - - -  + - - - -  +"
       ]
      }
     ],
     "prompt_number": 84
    },
    {
     "cell_type": "code",
     "collapsed": true,
     "input": [],
     "language": "python",
     "outputs": [],
     "prompt_number": 83
    },
    {
     "cell_type": "code",
     "collapsed": true,
     "input": [],
     "language": "python",
     "outputs": []
    }
   ]
  }
 ]
}