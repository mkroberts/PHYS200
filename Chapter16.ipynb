{
 "metadata": {
  "name": "Chapter16"
 },
 "nbformat": 3,
 "worksheets": [
  {
   "cells": [
    {
     "cell_type": "code",
     "collapsed": false,
     "input": [
      "class Time(object):",
      "    \"\"\"Represents the time of day.",
      "       ",
      "    attributes: hour, minute, second",
      "    \"\"\"",
      "time = Time()"
     ],
     "language": "python",
     "outputs": [],
     "prompt_number": 5
    },
    {
     "cell_type": "code",
     "collapsed": true,
     "input": [
      "time.hour = 11",
      "time.minute = 43",
      "time.second = 49"
     ],
     "language": "python",
     "outputs": [],
     "prompt_number": 6
    },
    {
     "cell_type": "code",
     "collapsed": false,
     "input": [
      "def tim(time):",
      "    a = []",
      "    a.append(time.hour)",
      "    a.append(time.minute)",
      "    a.append(time.second)",
      "    return a"
     ],
     "language": "python",
     "outputs": [],
     "prompt_number": 14
    },
    {
     "cell_type": "code",
     "collapsed": false,
     "input": [
      "tim(time)"
     ],
     "language": "python",
     "outputs": [
      {
       "output_type": "pyout",
       "prompt_number": 15,
       "text": [
        "[11, 43, 49]"
       ]
      }
     ],
     "prompt_number": 15
    },
    {
     "cell_type": "code",
     "collapsed": false,
     "input": [
      "def diftime(t1, t2):",
      "    if t1.hour < t2.hour:",
      "        print 'true'",
      "    else:",
      "        print 'false'"
     ],
     "language": "python",
     "outputs": [],
     "prompt_number": 19
    },
    {
     "cell_type": "code",
     "collapsed": true,
     "input": [
      "def increment(time, seconds):",
      "    time.second += seconds",
      "",
      "    if time.second >= 60:",
      "        time.second -= 60",
      "        time.minute += 1",
      "",
      "    if time.minute >= 60:",
      "        time.minute -= 60",
      "        time.hour += 1"
     ],
     "language": "python",
     "outputs": [],
     "prompt_number": 20
    },
    {
     "cell_type": "code",
     "collapsed": true,
     "input": [
      "def increment_t_int(time, sec):",
      "    time.second += seconds",
      "    minutes = time.hour * 60 + time.minute",
      "    seconds = minutes * 60 + time.second",
      "    seconds = seconds + sec",
      "    return seconds"
     ],
     "language": "python",
     "outputs": [],
     "prompt_number": 22
    },
    {
     "cell_type": "code",
     "collapsed": true,
     "input": [
      "def increment(sec, seconds):",
      "",
      "    time = Time()",
      "    minutes, time.second = divmod(seconds, 60)",
      "    time.hour, time.minute = divmod(minutes, 60)",
      "    ",
      "    time.second += seconds",
      "    ",
      "    return time",
      "    if time.second >= 60:",
      "        time.second -= 60",
      "        time.minute += 1",
      "",
      "    if time.minute >= 60:",
      "        time.minute -= 60",
      "        time.hour += 1"
     ],
     "language": "python",
     "outputs": [],
     "prompt_number": 23
    },
    {
     "cell_type": "code",
     "collapsed": true,
     "input": [],
     "language": "python",
     "outputs": []
    }
   ]
  }
 ]
}