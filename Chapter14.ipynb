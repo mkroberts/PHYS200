{
 "metadata": {
  "name": "Chapter14"
 },
 "nbformat": 3,
 "worksheets": [
  {
   "cells": [
    {
     "cell_type": "code",
     "collapsed": false,
     "input": [
      "import os",
      "",
      "def walk(dire):",
      "    for i in os.listdir(dire):",
      "        n = os.path.join(dire, i)",
      "        if os.path.isfile(n):",
      "            print n",
      "        else:",
      "            walk(n)"
     ],
     "language": "python",
     "outputs": [],
     "prompt_number": 2
    },
    {
     "cell_type": "code",
     "collapsed": true,
     "input": [
      "import sys",
      "",
      "def sed(pat, repl, sourc, end):",
      "    try:",
      "        tin = open(sourc, 'r')",
      "        tout = open(end, 'w')",
      "        for i in tin:",
      "            i = i.repl(pat, repl)",
      "            tout.write(i)",
      "        tin.close()",
      "        tout.close()",
      "    except:",
      "        print 'error'"
     ],
     "language": "python",
     "outputs": [],
     "prompt_number": 3
    },
    {
     "cell_type": "code",
     "collapsed": true,
     "input": [
      "import shelve",
      "import sys",
      "from anagram_sets import *",
      "",
      "def storana(filen, ad):",
      "    shelf = shelve.open(filen, 'c')",
      "    for i, j in ad.iteritems():",
      "        shelf[i] =  j",
      "",
      "    shelf.close()"
     ],
     "language": "python",
     "outputs": []
    }
   ]
  }
 ]
}